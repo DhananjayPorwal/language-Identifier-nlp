{
 "cells": [
  {
   "cell_type": "markdown",
   "id": "8ee18630",
   "metadata": {},
   "source": [
    "# Importing Libraries"
   ]
  },
  {
   "cell_type": "code",
   "execution_count": 54,
   "id": "13c418e6",
   "metadata": {},
   "outputs": [],
   "source": [
    "import string\n",
    "import pandas as pd\n",
    "import numpy as np\n",
    "import re\n",
    "import matplotlib.pyplot as plt\n",
    "import seaborn as sns\n",
    "from sklearn import feature_extraction\n",
    "from sklearn import pipeline\n",
    "from sklearn import linear_model\n",
    "from sklearn import metrics"
   ]
  },
  {
   "cell_type": "markdown",
   "id": "5ff9062e",
   "metadata": {},
   "source": [
    "# Importing Data"
   ]
  },
  {
   "cell_type": "code",
   "execution_count": 55,
   "id": "9b0fa290",
   "metadata": {},
   "outputs": [
    {
     "data": {
      "text/html": [
       "<div>\n",
       "<style scoped>\n",
       "    .dataframe tbody tr th:only-of-type {\n",
       "        vertical-align: middle;\n",
       "    }\n",
       "\n",
       "    .dataframe tbody tr th {\n",
       "        vertical-align: top;\n",
       "    }\n",
       "\n",
       "    .dataframe thead th {\n",
       "        text-align: right;\n",
       "    }\n",
       "</style>\n",
       "<table border=\"1\" class=\"dataframe\">\n",
       "  <thead>\n",
       "    <tr style=\"text-align: right;\">\n",
       "      <th></th>\n",
       "      <th>Text</th>\n",
       "      <th>Language</th>\n",
       "    </tr>\n",
       "  </thead>\n",
       "  <tbody>\n",
       "    <tr>\n",
       "      <th>0</th>\n",
       "      <td>Nature, in the broadest sense, is the natural...</td>\n",
       "      <td>English</td>\n",
       "    </tr>\n",
       "    <tr>\n",
       "      <th>1</th>\n",
       "      <td>\"Nature\" can refer to the phenomena of the phy...</td>\n",
       "      <td>English</td>\n",
       "    </tr>\n",
       "    <tr>\n",
       "      <th>2</th>\n",
       "      <td>The study of nature is a large, if not the onl...</td>\n",
       "      <td>English</td>\n",
       "    </tr>\n",
       "    <tr>\n",
       "      <th>3</th>\n",
       "      <td>Although humans are part of nature, human acti...</td>\n",
       "      <td>English</td>\n",
       "    </tr>\n",
       "    <tr>\n",
       "      <th>4</th>\n",
       "      <td>[1] The word nature is borrowed from the Old F...</td>\n",
       "      <td>English</td>\n",
       "    </tr>\n",
       "  </tbody>\n",
       "</table>\n",
       "</div>"
      ],
      "text/plain": [
       "                                                Text Language\n",
       "0   Nature, in the broadest sense, is the natural...  English\n",
       "1  \"Nature\" can refer to the phenomena of the phy...  English\n",
       "2  The study of nature is a large, if not the onl...  English\n",
       "3  Although humans are part of nature, human acti...  English\n",
       "4  [1] The word nature is borrowed from the Old F...  English"
      ]
     },
     "execution_count": 55,
     "metadata": {},
     "output_type": "execute_result"
    }
   ],
   "source": [
    "df = pd.read_csv('Language Detection.csv')\n",
    "df.head()"
   ]
  },
  {
   "cell_type": "markdown",
   "id": "e22b8b88",
   "metadata": {},
   "source": [
    "# Cleaning Dataset"
   ]
  },
  {
   "cell_type": "code",
   "execution_count": 56,
   "id": "e6f4d090",
   "metadata": {},
   "outputs": [],
   "source": [
    "# Remove Punctuation\n",
    "\n",
    "def remove_pun(text):\n",
    "    for pun in string.punctuation:\n",
    "        text = text.replace(pun,\"\")\n",
    "    text = text.lower()\n",
    "    return text"
   ]
  },
  {
   "cell_type": "code",
   "execution_count": 57,
   "id": "1a8b2361",
   "metadata": {},
   "outputs": [],
   "source": [
    "df['Text'] = df['Text'].apply(remove_pun)"
   ]
  },
  {
   "cell_type": "code",
   "execution_count": 58,
   "id": "fda65dbc",
   "metadata": {},
   "outputs": [],
   "source": [
    "from sklearn.model_selection import train_test_split\n",
    "X = df.iloc[:,0]\n",
    "Y = df.iloc[:,1]"
   ]
  },
  {
   "cell_type": "code",
   "execution_count": 59,
   "id": "b216c14e",
   "metadata": {},
   "outputs": [],
   "source": [
    "X_train,X_test,Y_train,Y_test = train_test_split(X,Y,test_size = 0.2)"
   ]
  },
  {
   "cell_type": "code",
   "execution_count": 60,
   "id": "7accb8a4",
   "metadata": {},
   "outputs": [],
   "source": [
    "vec = feature_extraction.text.TfidfVectorizer(ngram_range=(1,2), analyzer='char')\n",
    "model_pipe = pipeline.Pipeline([('vec', vec), ('clf', linear_model.LogisticRegression())])"
   ]
  },
  {
   "cell_type": "code",
   "execution_count": 61,
   "id": "20b0ebc2",
   "metadata": {},
   "outputs": [
    {
     "data": {
      "text/plain": [
       "Pipeline(steps=[('vec', TfidfVectorizer(analyzer='char', ngram_range=(1, 2))),\n",
       "                ('clf', LogisticRegression())])"
      ]
     },
     "execution_count": 61,
     "metadata": {},
     "output_type": "execute_result"
    }
   ],
   "source": [
    "model_pipe.fit(X_train,Y_train)"
   ]
  },
  {
   "cell_type": "code",
   "execution_count": 62,
   "id": "b4cd2ca2",
   "metadata": {},
   "outputs": [
    {
     "data": {
      "text/plain": [
       "array(['Arabic', 'Danish', 'Dutch', 'English', 'French', 'German',\n",
       "       'Greek', 'Hindi', 'Italian', 'Kannada', 'Malayalam', 'Portugeese',\n",
       "       'Russian', 'Spanish', 'Sweedish', 'Tamil', 'Turkish'], dtype=object)"
      ]
     },
     "execution_count": 62,
     "metadata": {},
     "output_type": "execute_result"
    }
   ],
   "source": [
    "model_pipe.classes_"
   ]
  },
  {
   "cell_type": "code",
   "execution_count": 63,
   "id": "ad1cef0d",
   "metadata": {},
   "outputs": [
    {
     "data": {
      "text/plain": [
       "97.5338491295938"
      ]
     },
     "execution_count": 63,
     "metadata": {},
     "output_type": "execute_result"
    }
   ],
   "source": [
    "predict_val = model_pipe.predict(X_test)\n",
    "metrics.accuracy_score(Y_test,predict_val)*100"
   ]
  },
  {
   "cell_type": "code",
   "execution_count": 64,
   "id": "05aa3b6e",
   "metadata": {},
   "outputs": [
    {
     "data": {
      "text/plain": [
       "array([[114,   0,   0,   0,   0,   0,   0,   0,   0,   0,   0,   0,   0,\n",
       "          0,   0,   0,   0],\n",
       "       [  0,  73,   0,   2,   0,   0,   0,   0,   0,   0,   0,   0,   0,\n",
       "          0,   2,   0,   1],\n",
       "       [  0,   1, 118,   2,   0,   2,   0,   0,   0,   0,   0,   0,   0,\n",
       "          1,   0,   0,   0],\n",
       "       [  0,   2,   1, 281,   0,   0,   0,   0,   2,   0,   0,   1,   0,\n",
       "          1,   0,   0,   0],\n",
       "       [  0,   0,   0,   1, 187,   1,   0,   0,   0,   0,   0,   1,   0,\n",
       "          1,   0,   0,   0],\n",
       "       [  0,   1,   1,   1,   1,  86,   0,   0,   0,   0,   0,   0,   0,\n",
       "          0,   1,   0,   0],\n",
       "       [  0,   0,   0,   0,   0,   0,  70,   0,   0,   0,   0,   0,   0,\n",
       "          0,   0,   0,   0],\n",
       "       [  0,   0,   0,   0,   0,   0,   0,   9,   0,   0,   0,   0,   0,\n",
       "          0,   0,   0,   0],\n",
       "       [  0,   1,   1,   0,   0,   0,   0,   0, 125,   0,   0,   0,   0,\n",
       "          2,   0,   0,   0],\n",
       "       [  0,   0,   0,   0,   0,   0,   0,   0,   0,  66,   0,   0,   0,\n",
       "          0,   0,   0,   0],\n",
       "       [  0,   0,   0,   0,   0,   0,   0,   0,   0,   0, 114,   0,   0,\n",
       "          0,   0,   0,   0],\n",
       "       [  0,   0,   0,   1,   1,   0,   0,   0,   2,   0,   0, 147,   0,\n",
       "          2,   0,   0,   0],\n",
       "       [  0,   0,   0,   0,   0,   0,   0,   0,   0,   0,   0,   0, 149,\n",
       "          0,   0,   0,   0],\n",
       "       [  0,   0,   0,   2,   1,   0,   0,   0,   3,   0,   0,   1,   0,\n",
       "        154,   0,   0,   0],\n",
       "       [  0,   3,   0,   2,   1,   0,   0,   0,   0,   0,   0,   0,   0,\n",
       "          1, 145,   0,   0],\n",
       "       [  0,   0,   0,   0,   0,   0,   0,   0,   0,   0,   0,   0,   0,\n",
       "          0,   0,  93,   0],\n",
       "       [  0,   0,   0,   0,   0,   0,   0,   0,   0,   0,   0,   0,   0,\n",
       "          0,   0,   0,  86]])"
      ]
     },
     "execution_count": 64,
     "metadata": {},
     "output_type": "execute_result"
    }
   ],
   "source": [
    "metrics.confusion_matrix(Y_test, predict_val)"
   ]
  },
  {
   "cell_type": "code",
   "execution_count": 65,
   "id": "8043c151",
   "metadata": {},
   "outputs": [
    {
     "data": {
      "text/plain": [
       "array(['English'], dtype=object)"
      ]
     },
     "execution_count": 65,
     "metadata": {},
     "output_type": "execute_result"
    }
   ],
   "source": [
    "model_pipe.predict(['Jay Shri Ram'])"
   ]
  },
  {
   "cell_type": "code",
   "execution_count": 66,
   "id": "bacc6be4",
   "metadata": {},
   "outputs": [
    {
     "data": {
      "text/plain": [
       "array(['Hindi'], dtype=object)"
      ]
     },
     "execution_count": 66,
     "metadata": {},
     "output_type": "execute_result"
    }
   ],
   "source": [
    "model_pipe.predict(['जय श्री राम'])"
   ]
  },
  {
   "cell_type": "code",
   "execution_count": 67,
   "id": "c5445d63",
   "metadata": {},
   "outputs": [
    {
     "data": {
      "text/plain": [
       "array(['Tamil'], dtype=object)"
      ]
     },
     "execution_count": 67,
     "metadata": {},
     "output_type": "execute_result"
    }
   ],
   "source": [
    "model_pipe.predict(['ஜெய் ஸ்ரீ ராம்'])"
   ]
  },
  {
   "cell_type": "markdown",
   "id": "f0d2de08",
   "metadata": {},
   "source": [
    "# Converting pickle model"
   ]
  },
  {
   "cell_type": "code",
   "execution_count": 73,
   "id": "8b758153",
   "metadata": {},
   "outputs": [],
   "source": [
    "import pickle\n",
    "new_file = open('model.pckl', 'wb')\n",
    "pickle.dump(model_pipe, new_file)\n",
    "new_file.close()"
   ]
  },
  {
   "cell_type": "markdown",
   "id": "0bf93885",
   "metadata": {},
   "source": [
    "### Look into directories 'for model.pkl' file"
   ]
  },
  {
   "cell_type": "code",
   "execution_count": 76,
   "id": "6b1a910d",
   "metadata": {},
   "outputs": [
    {
     "data": {
      "text/plain": [
       "['app.py',\n",
       " 'Language Detection.csv',\n",
       " '.ipynb_checkpoints',\n",
       " 'model.pckl',\n",
       " 'Untitled.ipynb']"
      ]
     },
     "execution_count": 76,
     "metadata": {},
     "output_type": "execute_result"
    }
   ],
   "source": [
    "import os\n",
    "os.listdir()"
   ]
  }
 ],
 "metadata": {
  "kernelspec": {
   "display_name": "Python 3.8.10 64-bit",
   "language": "python",
   "name": "python3810jvsc74a57bd0916dbcbb3f70747c44a77c7bcd40155683ae19c65e1c03b4aa3499c5328201f1"
  },
  "language_info": {
   "codemirror_mode": {
    "name": "ipython",
    "version": 3
   },
   "file_extension": ".py",
   "mimetype": "text/x-python",
   "name": "python",
   "nbconvert_exporter": "python",
   "pygments_lexer": "ipython3",
   "version": "3.8.10"
  }
 },
 "nbformat": 4,
 "nbformat_minor": 5
}
